{
  "cells": [
    {
      "attachments": {},
      "cell_type": "markdown",
      "metadata": {
        "id": "qtyGmYyYH09Z"
      },
      "source": [
        "# Setup"
      ]
    },
    {
      "cell_type": "code",
      "execution_count": 1,
      "metadata": {
        "execution": {
          "iopub.execute_input": "2023-07-21T10:05:22.297826Z",
          "iopub.status.busy": "2023-07-21T10:05:22.296847Z",
          "iopub.status.idle": "2023-07-21T10:05:28.080354Z",
          "shell.execute_reply": "2023-07-21T10:05:28.078782Z",
          "shell.execute_reply.started": "2023-07-21T10:05:22.297763Z"
        },
        "id": "20i9dQgTTahN",
        "trusted": true
      },
      "outputs": [],
      "source": [
        "import pickle\n",
        "import numpy as np\n",
        "import matplotlib.pyplot as plt\n",
        "from models import (BasicCNN, AutoencoderCNN, ECACNN, AutoencoderECACNN,\n",
        "                    ECASpatialCNN, DeeperCNN, LinearAutoencoderECACNN,\n",
        "                    CBAMCNN, LinearAutoencoderCNN)\n"
      ]
    },
    {
      "attachments": {},
      "cell_type": "markdown",
      "metadata": {
        "id": "mTyGDzDjH477"
      },
      "source": [
        "## Loading the Models"
      ]
    },
    {
      "cell_type": "code",
      "execution_count": 3,
      "metadata": {
        "execution": {
          "iopub.execute_input": "2023-07-21T10:06:03.418671Z",
          "iopub.status.busy": "2023-07-21T10:06:03.418257Z",
          "iopub.status.idle": "2023-07-21T10:06:03.751667Z",
          "shell.execute_reply": "2023-07-21T10:06:03.749970Z",
          "shell.execute_reply.started": "2023-07-21T10:06:03.418640Z"
        },
        "id": "YGlZCa_LYlo8",
        "trusted": true
      },
      "outputs": [],
      "source": [
        "cnn_model = BasicCNN()\n",
        "eca_model = ECACNN()\n",
        "cbam_model = CBAMCNN()\n",
        "deeper_cnn_model = DeeperCNN()\n",
        "autoencoder_model = AutoencoderCNN()\n",
        "autoencoder_eca_model = AutoencoderECACNN()\n",
        "linear_autoencoder_model = LinearAutoencoderCNN()\n",
        "linear_autoencoder_eca_model = LinearAutoencoderECACNN()\n",
        "eca_spatial_model = ECASpatialCNN()\n",
        "\n",
        "\n",
        "models = {\n",
        "    'cnn': cnn_model,\n",
        "    'eca': eca_model,\n",
        "    'cbam': cbam_model,\n",
        "    'deeper_cnn': deeper_cnn_model,\n",
        "    'autoencoder': autoencoder_model,\n",
        "    'autoencoder_eca': autoencoder_eca_model,\n",
        "    'linear_autoencoder': linear_autoencoder_model,\n",
        "    'linear_autoencoder_eca': linear_autoencoder_eca_model,\n",
        "    'eca_spatial': eca_spatial_model,\n",
        "    }"
      ]
    },
    {
      "attachments": {},
      "cell_type": "markdown",
      "metadata": {
        "id": "eq1XfymwID0w"
      },
      "source": [
        "## Loading Results Data"
      ]
    },
    {
      "cell_type": "code",
      "execution_count": 4,
      "metadata": {
        "id": "izlRroTNWuHz"
      },
      "outputs": [],
      "source": [
        "with open('results.pkl', 'rb') as f:\n",
        "    results = pickle.load(f)"
      ]
    },
    {
      "attachments": {},
      "cell_type": "markdown",
      "metadata": {
        "id": "y9FZOCPuHzv0"
      },
      "source": [
        "\n",
        "\n",
        "---\n",
        "\n"
      ]
    },
    {
      "attachments": {},
      "cell_type": "markdown",
      "metadata": {
        "id": "mk2PvsMJwuzX"
      },
      "source": [
        "# Results analysis"
      ]
    },
    {
      "cell_type": "code",
      "execution_count": 5,
      "metadata": {
        "colab": {
          "base_uri": "https://localhost:8080/"
        },
        "id": "s8zOzdt2J5MY",
        "outputId": "c3f95249-8e97-42e2-ba47-560299d5d9ea"
      },
      "outputs": [
        {
          "data": {
            "text/plain": [
              "({'cnn': 0.6667511372626582,\n",
              "  'eca': 0.6674557456487342,\n",
              "  'cbam': 0.6418364319620253,\n",
              "  'autoencoder': 0.6746439873417722,\n",
              "  'autoencoder_eca': 0.6652862935126582,\n",
              "  'linear_autoencoder_eca': 0.6087754647943038,\n",
              "  'eca_spatial': 0.6685682852056962,\n",
              "  'deeper_cnn': 0.6645075158227849,\n",
              "  'linear_autoencoder': 0.6023289161392404},\n",
              " {'cnn': 0.018893083368881534,\n",
              "  'eca': 0.023452770114145892,\n",
              "  'cbam': 0.025581481626441922,\n",
              "  'autoencoder': 0.01988106309039409,\n",
              "  'autoencoder_eca': 0.018313657079510656,\n",
              "  'linear_autoencoder_eca': 0.025539537252491733,\n",
              "  'eca_spatial': 0.013558224866598865,\n",
              "  'deeper_cnn': 0.025871021497234928,\n",
              "  'linear_autoencoder': 0.0392586111388186})"
            ]
          },
          "execution_count": 5,
          "metadata": {},
          "output_type": "execute_result"
        }
      ],
      "source": [
        "average_test_accuracies = {}\n",
        "best_test_accuracies = {}\n",
        "average_test_losses = {}\n",
        "average_best_valid_accuracies = {}\n",
        "std_test_accuracies = {}\n",
        "\n",
        "\n",
        "for name, model in results.items():\n",
        "    test_accuracies = [model[run]['test_accuracy'] for run in range(len(model))]\n",
        "    test_losses = [model[run]['test_loss'] for run in range(len(model))]\n",
        "    best_valid_accuracies = [np.max(model[run]['logging_dict']['accuracy']['validation']) for run in range(len(model))]\n",
        "\n",
        "    average_test_accuracies[name] = np.average(test_accuracies)\n",
        "    average_test_losses[name] = np.average(test_losses)\n",
        "    average_best_valid_accuracies[name] = np.average(best_valid_accuracies)\n",
        "    best_test_accuracies[name] = np.max(test_accuracies)\n",
        "    std_test_accuracies[name] = np.std(test_accuracies)\n",
        "\n",
        "\n",
        "average_test_accuracies, std_test_accuracies"
      ]
    },
    {
      "cell_type": "code",
      "execution_count": 180,
      "metadata": {
        "execution": {
          "iopub.execute_input": "2023-07-21T10:06:02.559110Z",
          "iopub.status.busy": "2023-07-21T10:06:02.558196Z",
          "iopub.status.idle": "2023-07-21T10:06:02.572985Z",
          "shell.execute_reply": "2023-07-21T10:06:02.571795Z",
          "shell.execute_reply.started": "2023-07-21T10:06:02.559047Z"
        },
        "id": "cfeGG_jQUDDh",
        "trusted": true
      },
      "outputs": [],
      "source": [
        "def make_plots(logging_dict, model_name, avg_train=True):\n",
        "    epoch_ends = np.cumsum(logging_dict['batches_per_epoch'])\n",
        "\n",
        "    def get_avg_per_epoch(batch_data):\n",
        "        result = [None,]\n",
        "        for i in range(len(epoch_ends) - 1):\n",
        "            result.append(np.average(batch_data[epoch_ends[i]:epoch_ends[i + 1]]))\n",
        "        return result\n",
        "\n",
        "    fig, axes = plt.subplots(1, 2, figsize=(10, 3))\n",
        "    metrics = ('loss', 'accuracy')\n",
        "    for metric, ax in zip(metrics, axes.ravel()):\n",
        "        if avg_train:\n",
        "            ax.plot(get_avg_per_epoch(logging_dict[metric]['train']), '.-', label='training set')\n",
        "            ax.plot(logging_dict[metric]['validation'], '.-', label='validation set')\n",
        "            ax.set(title=metric, xlabel='epoch', xticks=np.arange(len(epoch_ends)))\n",
        "        else:\n",
        "            ax.plot(logging_dict[metric]['train'],'.-', label='training set')\n",
        "            ax.plot(epoch_ends, logging_dict[metric]['validation'],'.-', label='validation set')\n",
        "            ax.set(title=metric, xlabel='batch')\n",
        "\n",
        "    handles, labels = ax.get_legend_handles_labels()\n",
        "    plt.figlegend(handles=handles, labels=labels, loc='upper center', bbox_to_anchor=(0.5, 0), ncol=2)\n",
        "    plt.suptitle(model_name)\n",
        "    plt.tight_layout()\n",
        "    plt.show()"
      ]
    },
    {
      "attachments": {},
      "cell_type": "markdown",
      "metadata": {
        "id": "SnC8KsZpPjR4"
      },
      "source": [
        "---"
      ]
    },
    {
      "attachments": {},
      "cell_type": "markdown",
      "metadata": {
        "id": "Io8yZXwCPy5u"
      },
      "source": [
        "# Parameter Count"
      ]
    },
    {
      "cell_type": "code",
      "execution_count": 6,
      "metadata": {
        "id": "eNaI4r0_Pk9N"
      },
      "outputs": [],
      "source": [
        "def count_params(model):\n",
        "    return sum(p.numel() for p in model.parameters() if p.requires_grad)"
      ]
    },
    {
      "cell_type": "code",
      "execution_count": 7,
      "metadata": {
        "colab": {
          "base_uri": "https://localhost:8080/"
        },
        "id": "3HBkSwn-Pi_j",
        "outputId": "b3e45552-8291-4fd1-c49b-c2e4de4c34cc"
      },
      "outputs": [
        {
          "name": "stdout",
          "output_type": "stream",
          "text": [
            "cnn 2,625,866\n",
            "eca 2,625,878\n",
            "cbam 2,628,830\n",
            "deeper_cnn 3,512,138\n",
            "autoencoder 2,918,570\n",
            "autoencoder_eca 2,918,582\n",
            "linear_autoencoder 2,722,260\n",
            "linear_autoencoder_eca 2,722,272\n",
            "eca_spatial 2,626,072\n"
          ]
        }
      ],
      "source": [
        "for name, model in models.items():\n",
        "    print(name, f'{count_params(model):,}')"
      ]
    }
  ],
  "metadata": {
    "accelerator": "GPU",
    "colab": {
      "gpuType": "T4",
      "provenance": []
    },
    "kernelspec": {
      "display_name": "Python 3",
      "name": "python3"
    },
    "language_info": {
      "codemirror_mode": {
        "name": "ipython",
        "version": 3
      },
      "file_extension": ".py",
      "mimetype": "text/x-python",
      "name": "python",
      "nbconvert_exporter": "python",
      "pygments_lexer": "ipython3",
      "version": "3.11.0"
    }
  },
  "nbformat": 4,
  "nbformat_minor": 0
}
