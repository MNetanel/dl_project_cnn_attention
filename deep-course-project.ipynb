{
 "cells": [
  {
   "cell_type": "code",
   "execution_count": 1,
   "id": "d57acc10",
   "metadata": {
    "_cell_guid": "b1076dfc-b9ad-4769-8c92-a6c4dae69d19",
    "_uuid": "8f2839f25d086af736a60e9eeb907d3b93b6e0e5",
    "execution": {
     "iopub.execute_input": "2023-07-03T11:28:03.034066Z",
     "iopub.status.busy": "2023-07-03T11:28:03.033623Z",
     "iopub.status.idle": "2023-07-03T11:28:06.299887Z",
     "shell.execute_reply": "2023-07-03T11:28:06.298963Z"
    },
    "papermill": {
     "duration": 3.273271,
     "end_time": "2023-07-03T11:28:06.302329",
     "exception": false,
     "start_time": "2023-07-03T11:28:03.029058",
     "status": "completed"
    },
    "tags": []
   },
   "outputs": [],
   "source": [
    "import torch\n",
    "from torch import nn"
   ]
  },
  {
   "cell_type": "code",
   "execution_count": 2,
   "id": "0a64d997",
   "metadata": {
    "execution": {
     "iopub.execute_input": "2023-07-03T11:28:06.308974Z",
     "iopub.status.busy": "2023-07-03T11:28:06.308480Z",
     "iopub.status.idle": "2023-07-03T11:28:06.369755Z",
     "shell.execute_reply": "2023-07-03T11:28:06.368871Z"
    },
    "papermill": {
     "duration": 0.06665,
     "end_time": "2023-07-03T11:28:06.371643",
     "exception": false,
     "start_time": "2023-07-03T11:28:06.304993",
     "status": "completed"
    },
    "tags": []
   },
   "outputs": [
    {
     "data": {
      "text/plain": [
       "'cuda'"
      ]
     },
     "execution_count": 2,
     "metadata": {},
     "output_type": "execute_result"
    }
   ],
   "source": [
    "# Setup device-agnostic code\n",
    "device = 'cuda' if torch.cuda.is_available() else 'cpu'\n",
    "device"
   ]
  },
  {
   "cell_type": "markdown",
   "id": "991d8c9c",
   "metadata": {
    "papermill": {
     "duration": 0.002277,
     "end_time": "2023-07-03T11:28:06.376537",
     "exception": false,
     "start_time": "2023-07-03T11:28:06.374260",
     "status": "completed"
    },
    "tags": []
   },
   "source": [
    "# Backbone Architecture"
   ]
  },
  {
   "cell_type": "markdown",
   "id": "317d924c",
   "metadata": {
    "papermill": {
     "duration": 0.002155,
     "end_time": "2023-07-03T11:28:06.381055",
     "exception": false,
     "start_time": "2023-07-03T11:28:06.378900",
     "status": "completed"
    },
    "tags": []
   },
   "source": [
    "We will use ResNet50 as our backbone architecture. The code is taken from [this GitHub repository by Maciej Balawejder](https://github.com/maciejbalawejder/Deep-Learning-Collection/tree/main/ConvNets/ResNet)."
   ]
  },
  {
   "cell_type": "code",
   "execution_count": 3,
   "id": "279043b6",
   "metadata": {
    "execution": {
     "iopub.execute_input": "2023-07-03T11:28:06.387639Z",
     "iopub.status.busy": "2023-07-03T11:28:06.387338Z",
     "iopub.status.idle": "2023-07-03T11:28:06.407425Z",
     "shell.execute_reply": "2023-07-03T11:28:06.406467Z"
    },
    "papermill": {
     "duration": 0.025921,
     "end_time": "2023-07-03T11:28:06.409405",
     "exception": false,
     "start_time": "2023-07-03T11:28:06.383484",
     "status": "completed"
    },
    "tags": []
   },
   "outputs": [],
   "source": [
    "import torch \n",
    "import torch.nn as nn\n",
    "\n",
    "# ConvBlock\n",
    "class ConvBlock(nn.Module):\n",
    "    def __init__(self, in_channels, out_channels, kernel_size, stride, padding):\n",
    "        super().__init__()\n",
    "        self.c = nn.Conv2d(in_channels=in_channels, out_channels=out_channels, kernel_size=kernel_size, stride=stride, padding=padding)\n",
    "        self.bn = nn.BatchNorm2d(out_channels)\n",
    "    \n",
    "    def forward(self, x):\n",
    "        return self.bn(self.c(x))\n",
    "\n",
    "# Bottleneck ResidualBlock \n",
    "class ResidualBlock(nn.Module):\n",
    "    def __init__(self, in_channels, out_channels, first=False):\n",
    "        super().__init__()\n",
    "        res_channels = in_channels // 4\n",
    "        stride = 1\n",
    "\n",
    "        self.projection = in_channels!=out_channels\n",
    "        if self.projection:\n",
    "            self.p = ConvBlock(in_channels, out_channels, 1, 2, 0)\n",
    "            stride = 2\n",
    "            res_channels = in_channels // 2\n",
    "\n",
    "        if first:\n",
    "            self.p = ConvBlock(in_channels, out_channels, 1, 1, 0)\n",
    "            stride = 1\n",
    "            res_channels = in_channels\n",
    "\n",
    "\n",
    "        self.c1 = ConvBlock(in_channels, res_channels, 1, 1, 0) \n",
    "        self.c2 = ConvBlock(res_channels, res_channels, 3, stride, 1)\n",
    "        self.c3 = ConvBlock(res_channels, out_channels, 1, 1, 0)\n",
    "        self.relu = nn.ReLU()\n",
    "\n",
    "    def forward(self, x):\n",
    "        f = self.relu(self.c1(x))\n",
    "        f = self.relu(self.c2(f))\n",
    "        f = self.c3(f)\n",
    "\n",
    "        if self.projection:\n",
    "            x = self.p(x)\n",
    "\n",
    "        h = self.relu(torch.add(f, x))\n",
    "        return h\n",
    "\n",
    "# ResNetx\n",
    "class ResNet(nn.Module):\n",
    "    def __init__(\n",
    "        self, \n",
    "        config_name : int, \n",
    "        in_channels=3, \n",
    "        classes=1000\n",
    "        ):\n",
    "        super().__init__()\n",
    "\n",
    "        configurations = {\n",
    "            50 : [3, 4, 6, 3],\n",
    "            101 : [3, 4, 23, 3],\n",
    "            152 : [3, 8, 36, 3]\n",
    "        }\n",
    "\n",
    "        no_blocks = configurations[config_name]\n",
    "\n",
    "        out_features = [256, 512, 1024, 2048]\n",
    "        self.blocks = nn.ModuleList([ResidualBlock(64, 256, True)])\n",
    "\n",
    "        for i in range(len(out_features)):\n",
    "            if i > 0:\n",
    "                self.blocks.append(ResidualBlock(out_features[i-1], out_features[i]))\n",
    "            for _ in range(no_blocks[i]-1):\n",
    "                self.blocks.append(ResidualBlock(out_features[i], out_features[i]))\n",
    "        \n",
    "        self.conv1 = ConvBlock(in_channels, 64, 7, 2, 3)\n",
    "        self.maxpool = nn.MaxPool2d(kernel_size=3, stride=2, padding=1)\n",
    "        self.avgpool = nn.AdaptiveAvgPool2d((1,1))\n",
    "        self.fc = nn.Linear(2048, classes)\n",
    "\n",
    "        self.relu = nn.ReLU()\n",
    "\n",
    "        self.init_weight()\n",
    "\n",
    "    def forward(self, x):\n",
    "        x = self.relu(self.conv1(x))\n",
    "        x = self.maxpool(x)\n",
    "        for block in self.blocks:\n",
    "            x = block(x)\n",
    "\n",
    "        x = self.avgpool(x)\n",
    "        x = torch.flatten(x, 1)\n",
    "        x = self.fc(x)\n",
    "        return x\n",
    "\n",
    "    def init_weight(self):\n",
    "        for layer in self.modules():\n",
    "            if isinstance(layer, nn.Conv2d) or isinstance(layer, nn.Linear):\n",
    "                nn.init.kaiming_normal_(layer.weight)"
   ]
  },
  {
   "cell_type": "code",
   "execution_count": 4,
   "id": "8b292d94",
   "metadata": {
    "execution": {
     "iopub.execute_input": "2023-07-03T11:28:06.415871Z",
     "iopub.status.busy": "2023-07-03T11:28:06.415249Z",
     "iopub.status.idle": "2023-07-03T11:28:09.592892Z",
     "shell.execute_reply": "2023-07-03T11:28:09.591953Z"
    },
    "papermill": {
     "duration": 3.183269,
     "end_time": "2023-07-03T11:28:09.595211",
     "exception": false,
     "start_time": "2023-07-03T11:28:06.411942",
     "status": "completed"
    },
    "tags": []
   },
   "outputs": [],
   "source": [
    "resnet50 = ResNet(50).to(device)"
   ]
  }
 ],
 "metadata": {
  "kernelspec": {
   "display_name": "Python 3",
   "language": "python",
   "name": "python3"
  },
  "language_info": {
   "codemirror_mode": {
    "name": "ipython",
    "version": 3
   },
   "file_extension": ".py",
   "mimetype": "text/x-python",
   "name": "python",
   "nbconvert_exporter": "python",
   "pygments_lexer": "ipython3",
   "version": "3.10.10"
  },
  "papermill": {
   "default_parameters": {},
   "duration": 18.36571,
   "end_time": "2023-07-03T11:28:11.220656",
   "environment_variables": {},
   "exception": null,
   "input_path": "__notebook__.ipynb",
   "output_path": "__notebook__.ipynb",
   "parameters": {},
   "start_time": "2023-07-03T11:27:52.854946",
   "version": "2.4.0"
  }
 },
 "nbformat": 4,
 "nbformat_minor": 5
}
